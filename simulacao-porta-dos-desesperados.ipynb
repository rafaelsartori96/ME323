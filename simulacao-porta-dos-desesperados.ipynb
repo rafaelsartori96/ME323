{
 "cells": [
  {
   "cell_type": "code",
   "execution_count": 2,
   "metadata": {},
   "outputs": [],
   "source": [
    "# Simulação de porta dos desesperados para ME323 na Unicamp\n",
    "#\n",
    "# Rafael Sartori M. Santos - 186154\n",
    "# Letícia M. Tateishi - 201454\n",
    "#\n",
    "# O chute da \"inteligência artificial\" é sempre na porta 1,\n",
    "# pois se o random de Python for aleatório, não importa\n",
    "# qual escolhemos para fazer isso.\n",
    "\n",
    "import random\n",
    "import numpy as np\n",
    "import matplotlib.pyplot as plt\n",
    "\n",
    "# Parâmetros para o programa\n",
    "MAX_ITERACOES = 10**4"
   ]
  },
  {
   "cell_type": "code",
   "execution_count": 3,
   "metadata": {},
   "outputs": [],
   "source": [
    "# Configuração de random\n",
    "random.seed()\n",
    "\n",
    "# Variáveis para confirmar se random é aleatório\n",
    "numeros_escolhidos = {\n",
    "    '1': 0,\n",
    "    '2': 0,\n",
    "    '3': 0\n",
    "}\n",
    "\n",
    "# Variáveis de simulação\n",
    "iteracoes = 0\n",
    "num_vitorias_mudar = 0\n",
    "num_vitorias_ficar = 0\n",
    "\n",
    "# Estatística na simulação para gráfico\n",
    "lista_x = []\n",
    "lista_y1 = [] # 1: estratégia de trocar sempre\n",
    "lista_y2 = [] # 2: estratégia de ficar sempre"
   ]
  },
  {
   "cell_type": "code",
   "execution_count": 4,
   "metadata": {},
   "outputs": [],
   "source": [
    "# Laço de simulação\n",
    "while iteracoes < MAX_ITERACOES:\n",
    "    # Chutamos uma porta para ser a premiada\n",
    "    porta_premiada = random.randint(1, 3)\n",
    "    \n",
    "    # Adicionamos a escolha à estatística\n",
    "    numeros_escolhidos[str(porta_premiada)] += 1\n",
    "    \n",
    "    # Verificamos se a porta premiada é a primeira\n",
    "    #\n",
    "    # Se for a primeira, significa que quem sempre\n",
    "    # fica ganha. Se não for a primeira, significa\n",
    "    # que das 2 portas livres, uma será mostrada e\n",
    "    # a outra possuirá o prêmio, ou seja, quem\n",
    "    # sempre muda irá ganhar.\n",
    "    #\n",
    "    # Já dá para notar que a chance de ganhar\n",
    "    # mudando de porta é 2/3, pois se cair na porta\n",
    "    # 2 ou 3, quem muda ganha.\n",
    "    if porta_premiada == 1:\n",
    "        num_vitorias_ficar += 1\n",
    "    else:\n",
    "        num_vitorias_mudar += 1\n",
    "\n",
    "    # Adicionamos iteração ao eixo x\n",
    "    lista_x.append(iteracoes)\n",
    "    lista_y1.append(num_vitorias_mudar / (num_vitorias_ficar + num_vitorias_mudar)) # Proporção acumulada\n",
    "    lista_y2.append(num_vitorias_ficar / (num_vitorias_ficar + num_vitorias_mudar)) # Proporção acumulada\n",
    "    \n",
    "    # Vamos à próxima iteração\n",
    "    iteracoes += 1"
   ]
  },
  {
   "cell_type": "code",
   "execution_count": 20,
   "metadata": {},
   "outputs": [
    {
     "name": "stdout",
     "output_type": "stream",
     "text": [
      "Estatística de random\n",
      "\t1\t3360\n",
      "\t2\t3272\n",
      "\t3\t3368\n",
      "\n",
      "Quem muda de porta ganha 6640 vezes (66.4%)\n",
      "Quem fica com a porta ganha 3360 vezes (33.6%)\n"
     ]
    },
    {
     "data": {
      "image/png": "[encoded data removed]",
      "text/plain": [
       "<Figure size 432x288 with 1 Axes>"
      ]
     },
     "metadata": {
      "needs_background": "light"
     },
     "output_type": "display_data"
    }
   ],
   "source": [
    "# Imprimimos resultados\n",
    "\n",
    "# Estatísticas de quais portas foram sorteadas quantas vezes\n",
    "print('Estatística de random')\n",
    "for i in range(1, 4):\n",
    "    print('\\t{0}\\t{1}'.format(i, numeros_escolhidos[str(i)]))\n",
    "\n",
    "print()\n",
    "\n",
    "# Estatísticas de vitória\n",
    "print('Quem muda de porta ganha {0} vezes ({1}%)'.format(num_vitorias_mudar, num_vitorias_mudar * 100 / MAX_ITERACOES))\n",
    "print('Quem fica com a porta ganha {0} vezes ({1}%)'.format(num_vitorias_ficar, num_vitorias_ficar * 100 / MAX_ITERACOES))\n",
    "\n",
    "# Imprimir gráficos\n",
    "min_x_display = -MAX_ITERACOES * 0.02   # Valor mínimo de X a ser mostrado\n",
    "\n",
    "plt.plot(lista_x, lista_y1, 'b-', label='Proporção acumulada (mudar)')    # gráfico para estratégia de mudar\n",
    "plt.plot(lista_x, lista_y2, 'g-', label='Proporção acumulada (ficar)')    # gráfico para estratégia de ficar\n",
    "plt.plot([min_x_display, MAX_ITERACOES], [2/3, 2/3], 'r--', label='2/3')  # gráfico para 2/3\n",
    "plt.plot([min_x_display, MAX_ITERACOES], [1/3, 1/3], 'm--', label='1/3')  # gráfico para 1/3\n",
    "\n",
    "# Definimos posição da legenda\n",
    "plt.legend(loc='center right')\n",
    "\n",
    "# Configuramos os eixos\n",
    "plt.axis([min_x_display, MAX_ITERACOES, 0, 1])\n",
    "\n",
    "# Damos nome ao gráfico e eixos\n",
    "plt.suptitle('Proporção acumulada na simulação', fontsize=16, y=1)\n",
    "plt.title('Estratégia de mudar de porta após apresentação', fontsize=12)\n",
    "plt.xlabel('Número de iterações')\n",
    "plt.ylabel('Proporção acumulada de estratégia')\n",
    "\n",
    "# Salvamos o gráfico em PDF\n",
    "plt.savefig('grafico_prob_acum.pdf', dpi=300, format='pdf')\n"
   ]
  },
  {
   "cell_type": "code",
   "execution_count": null,
   "metadata": {},
   "outputs": [],
   "source": []
  },
  {
   "cell_type": "code",
   "execution_count": null,
   "metadata": {},
   "outputs": [],
   "source": []
  }
 ],
 "metadata": {
  "kernelspec": {
   "display_name": "Python 3",
   "language": "python",
   "name": "python3"
  },
  "language_info": {
   "codemirror_mode": {
    "name": "ipython",
    "version": 3
   },
   "file_extension": ".py",
   "mimetype": "text/x-python",
   "name": "python",
   "nbconvert_exporter": "python",
   "pygments_lexer": "ipython3",
   "version": "3.7.2"
  }
 },
 "nbformat": 4,
 "nbformat_minor": 2
}
